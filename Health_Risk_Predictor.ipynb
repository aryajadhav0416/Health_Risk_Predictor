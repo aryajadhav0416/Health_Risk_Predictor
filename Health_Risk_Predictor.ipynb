{
 "cells": [
  {
   "cell_type": "code",
   "execution_count": 1,
   "id": "a00333dc-c3ff-4154-a7dc-e6e83e69e7ca",
   "metadata": {},
   "outputs": [
    {
     "name": "stderr",
     "output_type": "stream",
     "text": [
      "C:\\Users\\Admin\\AppData\\Local\\Programs\\Python\\Python312\\Lib\\site-packages\\tqdm\\auto.py:21: TqdmWarning: IProgress not found. Please update jupyter and ipywidgets. See https://ipywidgets.readthedocs.io/en/stable/user_install.html\n",
      "  from .autonotebook import tqdm as notebook_tqdm\n"
     ]
    }
   ],
   "source": [
    "# 📦 Required Libraries\n",
    "import pandas as pd\n",
    "import numpy as np\n",
    "import matplotlib.pyplot as plt\n",
    "import seaborn as sns\n",
    "import joblib\n",
    "import shap\n",
    "import warnings\n",
    "warnings.filterwarnings('ignore')\n",
    "\n",
    "from sklearn.model_selection import train_test_split\n",
    "from sklearn.preprocessing import LabelEncoder\n",
    "from sklearn.metrics import accuracy_score, classification_report, confusion_matrix\n",
    "\n",
    "from sklearn.ensemble import RandomForestClassifier\n",
    "from xgboost import XGBClassifier\n",
    "from lightgbm import LGBMClassifier\n",
    "from catboost import CatBoostClassifier"
   ]
  },
  {
   "cell_type": "code",
   "execution_count": 2,
   "id": "c1c12d75-52a5-46da-b7d0-5c08bddaec3e",
   "metadata": {},
   "outputs": [],
   "source": [
    "# 📥 Load Dataset\n",
    "df = pd.read_csv('Lifestyle_and_Health_Risk_Prediction_Synthetic_Dataset.csv')  # Replace with your dataset path"
   ]
  },
  {
   "cell_type": "code",
   "execution_count": 3,
   "id": "de899760-b863-45c5-ac0c-40583687cfed",
   "metadata": {},
   "outputs": [],
   "source": [
    "# 🧹 Preprocessing\n",
    "target_col = 'health_risk'\n",
    "X = df.drop(columns=[target_col])\n",
    "y = df[target_col]"
   ]
  },
  {
   "cell_type": "code",
   "execution_count": 4,
   "id": "4ecd513b-07f5-453b-be0f-288ea5103fc4",
   "metadata": {},
   "outputs": [],
   "source": [
    "# Encode target label\n",
    "target_encoder = LabelEncoder()\n",
    "y_encoded = target_encoder.fit_transform(y)"
   ]
  },
  {
   "cell_type": "code",
   "execution_count": 5,
   "id": "4baa1afc-1f10-436f-ba21-91ea62456cc5",
   "metadata": {},
   "outputs": [],
   "source": [
    "# Encode categorical features\n",
    "cat_features = ['exercise', 'sugar_intake', 'smoking', 'alcohol', 'married', 'profession']\n",
    "encoders = {}\n",
    "for col in cat_features:\n",
    "    le = LabelEncoder()\n",
    "    X[col] = le.fit_transform(X[col])\n",
    "    encoders[col] = le"
   ]
  },
  {
   "cell_type": "code",
   "execution_count": 6,
   "id": "b462c679-e676-4e6b-bd14-bbed483bcafa",
   "metadata": {},
   "outputs": [],
   "source": [
    "# 🧪 Train-Test Split\n",
    "X_train, X_test, y_train, y_test = train_test_split(\n",
    "    X, y_encoded, test_size=0.2, random_state=42\n",
    ")"
   ]
  },
  {
   "cell_type": "code",
   "execution_count": 7,
   "id": "e4155f41-e570-4bde-84c2-a474933d696d",
   "metadata": {},
   "outputs": [
    {
     "name": "stdout",
     "output_type": "stream",
     "text": [
      "\n",
      "Training Random Forest...\n",
      "Accuracy: 0.9870\n",
      "              precision    recall  f1-score   support\n",
      "\n",
      "        high       0.99      0.99      0.99       708\n",
      "         low       0.97      0.98      0.98       292\n",
      "\n",
      "    accuracy                           0.99      1000\n",
      "   macro avg       0.98      0.99      0.98      1000\n",
      "weighted avg       0.99      0.99      0.99      1000\n",
      "\n",
      "\n",
      "Training XGBoost...\n",
      "Accuracy: 0.9950\n",
      "              precision    recall  f1-score   support\n",
      "\n",
      "        high       1.00      1.00      1.00       708\n",
      "         low       0.99      0.99      0.99       292\n",
      "\n",
      "    accuracy                           0.99      1000\n",
      "   macro avg       0.99      0.99      0.99      1000\n",
      "weighted avg       1.00      0.99      1.00      1000\n",
      "\n",
      "\n",
      "Training LightGBM...\n",
      "[LightGBM] [Info] Number of positive: 1218, number of negative: 2782\n",
      "[LightGBM] [Info] Auto-choosing row-wise multi-threading, the overhead of testing was 0.000355 seconds.\n",
      "You can set `force_row_wise=true` to remove the overhead.\n",
      "And if memory is not enough, you can set `force_col_wise=true`.\n",
      "[LightGBM] [Info] Total Bins 532\n",
      "[LightGBM] [Info] Number of data points in the train set: 4000, number of used features: 11\n",
      "[LightGBM] [Info] [binary:BoostFromScore]: pavg=0.304500 -> initscore=-0.825960\n",
      "[LightGBM] [Info] Start training from score -0.825960\n",
      "Accuracy: 0.9940\n",
      "              precision    recall  f1-score   support\n",
      "\n",
      "        high       1.00      0.99      1.00       708\n",
      "         low       0.99      0.99      0.99       292\n",
      "\n",
      "    accuracy                           0.99      1000\n",
      "   macro avg       0.99      0.99      0.99      1000\n",
      "weighted avg       0.99      0.99      0.99      1000\n",
      "\n",
      "\n",
      "Training CatBoost...\n",
      "Accuracy: 0.9960\n",
      "              precision    recall  f1-score   support\n",
      "\n",
      "        high       1.00      1.00      1.00       708\n",
      "         low       0.99      0.99      0.99       292\n",
      "\n",
      "    accuracy                           1.00      1000\n",
      "   macro avg       1.00      1.00      1.00      1000\n",
      "weighted avg       1.00      1.00      1.00      1000\n",
      "\n"
     ]
    }
   ],
   "source": [
    "# 🚀 Define Models to compare\n",
    "models = {\n",
    "    'Random Forest': RandomForestClassifier(random_state=42),\n",
    "    'XGBoost': XGBClassifier(use_label_encoder=False, eval_metric='mlogloss', random_state=42),\n",
    "    'LightGBM': LGBMClassifier(random_state=42),\n",
    "    'CatBoost': CatBoostClassifier(verbose=0, random_state=42)\n",
    "}\n",
    "\n",
    "results = {}\n",
    "all_reports = {}\n",
    "\n",
    "for name, model in models.items():\n",
    "    print(f\"\\nTraining {name}...\")\n",
    "    model.fit(X_train, y_train)\n",
    "    y_pred = model.predict(X_test)\n",
    "    acc = accuracy_score(y_test, y_pred)\n",
    "    results[name] = acc\n",
    "    all_reports[name] = classification_report(\n",
    "        y_test, y_pred, target_names=target_encoder.classes_, output_dict=True\n",
    "    )\n",
    "    print(f\"Accuracy: {acc:.4f}\")\n",
    "    print(classification_report(y_test, y_pred, target_names=target_encoder.classes_))"
   ]
  },
  {
   "cell_type": "code",
   "execution_count": 8,
   "id": "5025e0ce-3184-4e4d-aabf-ca91c580964e",
   "metadata": {},
   "outputs": [
    {
     "name": "stdout",
     "output_type": "stream",
     "text": [
      "\n",
      "✅ Best Model: CatBoost with Accuracy = 0.9960\n"
     ]
    }
   ],
   "source": [
    "# Select best model\n",
    "best_model_name = max(results, key=results.get)\n",
    "best_model = models[best_model_name]\n",
    "print(f\"\\n✅ Best Model: {best_model_name} with Accuracy = {results[best_model_name]:.4f}\")"
   ]
  },
  {
   "cell_type": "code",
   "execution_count": 9,
   "id": "ae5cd80c-ca8b-405a-b449-22e8e29f1e2b",
   "metadata": {},
   "outputs": [
    {
     "data": {
      "text/plain": [
       "['target_encoder.pkl']"
      ]
     },
     "execution_count": 9,
     "metadata": {},
     "output_type": "execute_result"
    }
   ],
   "source": [
    "# Save best model and encoders\n",
    "joblib.dump(best_model, 'health_risk_model.pkl')\n",
    "joblib.dump(encoders, 'encoders.pkl')\n",
    "joblib.dump(target_encoder, 'target_encoder.pkl')"
   ]
  },
  {
   "cell_type": "code",
   "execution_count": 10,
   "id": "8c6db366-0fe9-49a2-92be-fb54ce692894",
   "metadata": {},
   "outputs": [
    {
     "name": "stdout",
     "output_type": "stream",
     "text": [
      "Generating SHAP explainer and summary plot...\n"
     ]
    },
    {
     "name": "stderr",
     "output_type": "stream",
     "text": [
      "100%|===================| 3996/4000 [03:42<00:00]        "
     ]
    },
    {
     "name": "stdout",
     "output_type": "stream",
     "text": [
      "✅ SHAP explainer and summary plot saved!\n"
     ]
    }
   ],
   "source": [
    "# 🧠 SHAP explainability\n",
    "print(\"Generating SHAP explainer and summary plot...\")\n",
    "\n",
    "explainer = shap.Explainer(best_model, X_train)\n",
    "joblib.dump(explainer, 'shap_explainer.pkl')\n",
    "\n",
    "shap_values = explainer(X_train)\n",
    "\n",
    "plt.figure(figsize=(10, 6))\n",
    "shap.summary_plot(shap_values, X_train, show=False)\n",
    "plt.savefig('shap_summary_plot.png')\n",
    "plt.close()\n",
    "\n",
    "print(\"✅ SHAP explainer and summary plot saved!\")"
   ]
  },
  {
   "cell_type": "code",
   "execution_count": null,
   "id": "f1022e40-2f98-48f2-99e9-f3ceb0bc7c81",
   "metadata": {},
   "outputs": [],
   "source": []
  }
 ],
 "metadata": {
  "kernelspec": {
   "display_name": "Python 3 (ipykernel)",
   "language": "python",
   "name": "python3"
  },
  "language_info": {
   "codemirror_mode": {
    "name": "ipython",
    "version": 3
   },
   "file_extension": ".py",
   "mimetype": "text/x-python",
   "name": "python",
   "nbconvert_exporter": "python",
   "pygments_lexer": "ipython3",
   "version": "3.12.2"
  }
 },
 "nbformat": 4,
 "nbformat_minor": 5
}
